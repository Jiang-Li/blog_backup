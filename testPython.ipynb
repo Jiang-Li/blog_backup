{
 "cells": [
  {
   "cell_type": "code",
   "execution_count": 1,
   "metadata": {},
   "outputs": [],
   "source": [
    "import pandas as pd"
   ]
  },
  {
   "cell_type": "code",
   "execution_count": 5,
   "metadata": {},
   "outputs": [],
   "source": [
    "df = pd.read_csv(\"sample.csv\")"
   ]
  },
  {
   "cell_type": "code",
   "execution_count": 6,
   "metadata": {},
   "outputs": [
    {
     "data": {
      "text/plain": [
       "['dimension1', 'dimension2', 'measure1', 'measure2']"
      ]
     },
     "execution_count": 6,
     "metadata": {},
     "output_type": "execute_result"
    }
   ],
   "source": [
    "list(df)"
   ]
  },
  {
   "cell_type": "code",
   "execution_count": 7,
   "metadata": {},
   "outputs": [
    {
     "data": {
      "text/plain": [
       "dimension1    173\n",
       "dimension2    153\n",
       "measure1      169\n",
       "measure2      147\n",
       "dtype: int64"
      ]
     },
     "execution_count": 7,
     "metadata": {},
     "output_type": "execute_result"
    }
   ],
   "source": [
    "df.isnull().sum()"
   ]
  },
  {
   "cell_type": "code",
   "execution_count": 8,
   "metadata": {},
   "outputs": [
    {
     "data": {
      "text/html": [
       "<div>\n",
       "<style scoped>\n",
       "    .dataframe tbody tr th:only-of-type {\n",
       "        vertical-align: middle;\n",
       "    }\n",
       "\n",
       "    .dataframe tbody tr th {\n",
       "        vertical-align: top;\n",
       "    }\n",
       "\n",
       "    .dataframe thead th {\n",
       "        text-align: right;\n",
       "    }\n",
       "</style>\n",
       "<table border=\"1\" class=\"dataframe\">\n",
       "  <thead>\n",
       "    <tr style=\"text-align: right;\">\n",
       "      <th></th>\n",
       "      <th>count</th>\n",
       "      <th>measure1</th>\n",
       "      <th>measure1_percent</th>\n",
       "      <th>measure2</th>\n",
       "      <th>ratio</th>\n",
       "      <th>ratio_relativity</th>\n",
       "    </tr>\n",
       "    <tr>\n",
       "      <th>dimension1</th>\n",
       "      <th></th>\n",
       "      <th></th>\n",
       "      <th></th>\n",
       "      <th></th>\n",
       "      <th></th>\n",
       "      <th></th>\n",
       "    </tr>\n",
       "  </thead>\n",
       "  <tbody>\n",
       "    <tr>\n",
       "      <th>I</th>\n",
       "      <td>266.0</td>\n",
       "      <td>1171.0</td>\n",
       "      <td>0.260164</td>\n",
       "      <td>1210.0</td>\n",
       "      <td>0.967769</td>\n",
       "      <td>0.993355</td>\n",
       "    </tr>\n",
       "    <tr>\n",
       "      <th>II</th>\n",
       "      <td>285.0</td>\n",
       "      <td>1248.0</td>\n",
       "      <td>0.277272</td>\n",
       "      <td>1328.0</td>\n",
       "      <td>0.939759</td>\n",
       "      <td>0.964605</td>\n",
       "    </tr>\n",
       "    <tr>\n",
       "      <th>III</th>\n",
       "      <td>276.0</td>\n",
       "      <td>1200.0</td>\n",
       "      <td>0.266607</td>\n",
       "      <td>1325.0</td>\n",
       "      <td>0.905660</td>\n",
       "      <td>0.929605</td>\n",
       "    </tr>\n",
       "  </tbody>\n",
       "</table>\n",
       "</div>"
      ],
      "text/plain": [
       "            count  measure1  measure1_percent  measure2     ratio  \\\n",
       "dimension1                                                          \n",
       "I           266.0    1171.0          0.260164    1210.0  0.967769   \n",
       "II          285.0    1248.0          0.277272    1328.0  0.939759   \n",
       "III         276.0    1200.0          0.266607    1325.0  0.905660   \n",
       "\n",
       "            ratio_relativity  \n",
       "dimension1                    \n",
       "I                   0.993355  \n",
       "II                  0.964605  \n",
       "III                 0.929605  "
      ]
     },
     "execution_count": 8,
     "metadata": {},
     "output_type": "execute_result"
    }
   ],
   "source": [
    "def oneway(g):\n",
    "  return(\n",
    "    pd.Series({\n",
    "      \"measure1\": g.measure1.sum(),\n",
    "      \"measure2\": g.measure2.sum(),\n",
    "      \"count\": len(g),\n",
    "      \"measure1_percent\": g.measure1.sum()/df.measure1.sum(),\n",
    "      \"ratio\": g.measure1.sum()/g.measure2.sum(),\n",
    "      \"ratio_relativity\":\n",
    "        (g.measure1.sum()/g.measure2.sum())/ \n",
    "        (df.measure1.sum()/df.measure2.sum())\n",
    "    })\n",
    "  )\n",
    "  \n",
    "df.groupby(\"dimension1\").apply(oneway)"
   ]
  },
  {
   "cell_type": "code",
   "execution_count": null,
   "metadata": {},
   "outputs": [],
   "source": []
  }
 ],
 "metadata": {
  "kernelspec": {
   "display_name": "Python 3",
   "language": "python",
   "name": "python3"
  },
  "language_info": {
   "codemirror_mode": {
    "name": "ipython",
    "version": 3
   },
   "file_extension": ".py",
   "mimetype": "text/x-python",
   "name": "python",
   "nbconvert_exporter": "python",
   "pygments_lexer": "ipython3",
   "version": "3.6.5"
  }
 },
 "nbformat": 4,
 "nbformat_minor": 2
}
